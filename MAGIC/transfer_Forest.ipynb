{
 "cells": [
  {
   "cell_type": "code",
   "execution_count": 1,
   "metadata": {},
   "outputs": [],
   "source": [
    "import torch\n",
    "\n",
    "from MAG_Cascade import grow_forest\n",
    "from MAGIC import MAGIC_framework, out_caller\n",
    "from Networks.nnUNet_wSD_decomposed_splitOutput import DynEncoder_wSD, DynDecoder_wSD\n",
    "import os, glob"
   ]
  },
  {
   "cell_type": "code",
   "execution_count": 2,
   "metadata": {},
   "outputs": [],
   "source": [
    "# model_hyperparams = dict(\n",
    "#     scale_factors=[1, 2, 4, 8, 16],\n",
    "#     spatial_dims=3,\n",
    "#     filters = [32, 64, 128, 256, 512, 512],\n",
    "#     strides = [(1, 1, 1)] + [(2, 2, 2) for _ in range(5)],\n",
    "#     kernel_size = [(3, 3, 3) for _ in range(6)],\n",
    "# ) \n",
    "\n",
    "# src = 'SavedModels/MAGIC_Published'\n",
    "# forest = grow_forest(\n",
    "#     roi_size=[96, 96, 96],\n",
    "#     num_cascade_layers=1,\n",
    "#     modality_names=['VR', 'simCT', 'CCTA'],\n",
    "#     agnostic_name='Mask',\n",
    "#     num_classes_set=[1 + 9 + 8 + 2 + 4],\n",
    "#     encoder_module=(DynEncoder_wSD, model_hyperparams | {'attention_block': False}),\n",
    "#     decoder_module=(DynDecoder_wSD, model_hyperparams | {'split_level': 4, 'out_groups': [2, 10, 9, 3]}),\n",
    "#     in_channels_key='in_channels',\n",
    "#     out_channels_key='out_channels',\n",
    "#     detach_branch_inputs=True,\n",
    "# )\n",
    "# weight_paths = sorted(glob.glob(os.path.join(src, \"Modules\", \"*.pth\")))\n",
    "# for path in weight_paths:\n",
    "#     name = os.path.split(path)[-1].split('_WEIGHTS')[0]\n",
    "#     forest.twigs[name].load_state_dict(torch.load(path))"
   ]
  },
  {
   "cell_type": "code",
   "execution_count": 3,
   "metadata": {},
   "outputs": [],
   "source": [
    "# Setting up hyperparameteres for the MAGIC framwork\n",
    "modality_names: list[str] = ['VR', 'simCT', 'CCTA'] # i.e. ['VR', 'CCTA', 'simCT]\n",
    "agnostic_name: str = 'Mask'\n",
    "num_classes_set: list[int] = 1 + 9 + 8 + 2 + 4 # Total number of classes involved, i.e. WH, Chambers/great vessels, Coronary arteries/valves, nodes, AND backgrounds\n",
    "split_level = 4 # How deep in the network to split the model for each output group\n",
    "# -> Configured to be a 6 layer nnU-Net base, i=4 puts the split right after the bottle neck\n",
    "out_groups = [2, 10, 9, 3] # Number classes + bkg for each group to guide the output layers of the decoders\n",
    "# 1 WH, 9 Chambers + Great Vessels, 8 coronary arteries + valves, 2 nodes, 4 \"groups\"\n",
    "\n",
    "# Needed parameters for the backbone blocks\n",
    "model_hyperparams = dict(\n",
    "    scale_factors=[1, 2, 4, 8, 16],\n",
    "    spatial_dims=3,\n",
    "    filters = [32, 64, 128, 256, 512, 512],\n",
    "    in_channels = 1,\n",
    "    out_channels = num_classes_set,\n",
    "    strides = [(1, 1, 1)] + [(2, 2, 2) for _ in range(5)],\n",
    "    kernel_size = [(3, 3, 3) for _ in range(6)],\n",
    ") \n",
    "\n",
    "# Initialize the MAGIC \n",
    "magic = MAGIC_framework(\n",
    "    roi_size=[96, 96, 96],\n",
    "    modality_names=modality_names,\n",
    "    agnostic_name='Mask',\n",
    "    encoder_module=(DynEncoder_wSD, model_hyperparams | {'attention_block': False}),\n",
    "    decoder_module=(DynDecoder_wSD, model_hyperparams | {'split_level': split_level, 'out_groups': out_groups}),\n",
    "    out_caller=out_caller,\n",
    "    optimizer_class=None,\n",
    ")"
   ]
  },
  {
   "cell_type": "code",
   "execution_count": 5,
   "metadata": {},
   "outputs": [],
   "source": [
    "# Setting up hyperparameteres for the MAGIC framwork\n",
    "modality_names: list[str] = ['VR', 'simCT', 'CCTA'] # i.e. ['VR', 'CCTA', 'simCT]\n",
    "agnostic_name: str = 'Mask'\n",
    "num_classes_set: list[int] = 2 # Total number of classes involved, i.e. WH, Chambers/great vessels, Coronary arteries/valves, nodes, AND backgrounds\n",
    "split_level = 4 # How deep in the network to split the model for each output group\n",
    "# -> Configured to be a 6 layer nnU-Net base, i=4 puts the split right after the bottle neck\n",
    "out_groups = [2] # Number classes + bkg for each group to guide the output layers of the decoders\n",
    "# 1 WH, 9 Chambers + Great Vessels, 8 coronary arteries + valves, 2 nodes, 4 \"groups\"\n",
    "\n",
    "# Needed parameters for the backbone blocks\n",
    "model_hyperparams = dict(\n",
    "    scale_factors=[1, 2, 4, 8, 16],\n",
    "    spatial_dims=3,\n",
    "    filters = [32, 64, 128, 256, 512, 512],\n",
    "    in_channels = 1,\n",
    "    out_channels = num_classes_set,\n",
    "    strides = [(1, 1, 1)] + [(2, 2, 2) for _ in range(5)],\n",
    "    kernel_size = [(3, 3, 3) for _ in range(6)],\n",
    ") \n",
    "\n",
    "# Initialize the MAGIC \n",
    "magic = MAGIC_framework(\n",
    "    roi_size=[96, 96, 96],\n",
    "    modality_names=modality_names,\n",
    "    agnostic_name='Mask',\n",
    "    encoder_module=(DynEncoder_wSD, model_hyperparams | {'attention_block': False}),\n",
    "    decoder_module=(DynDecoder_wSD, model_hyperparams | {'split_level': split_level, 'out_groups': out_groups}),\n",
    "    out_caller=out_caller,\n",
    "    optimizer_class=None,\n",
    ")"
   ]
  },
  {
   "cell_type": "code",
   "execution_count": 6,
   "metadata": {},
   "outputs": [],
   "source": [
    "# src = '/mnt/data/Summerfield/UseMAGIC/SavedModels/MAGIC_Published'\n",
    "src = \"/mnt/data/Summerfield/UseMAGIC/SavedModels/Localizer\"\n",
    "weight_paths = sorted(glob.glob(os.path.join(src, \"Modules\", \"*.pth\")))\n",
    "for path in weight_paths:\n",
    "    name = os.path.split(path)[-1].split('_WEIGHTS')[0]\n",
    "    if 'Encoder' in name: name = name.split('_')[0]\n",
    "    else: name = name.split('_')[0]\n",
    "    magic.magic_modules[name].load_state_dict(torch.load(path))"
   ]
  },
  {
   "cell_type": "code",
   "execution_count": 7,
   "metadata": {},
   "outputs": [],
   "source": [
    "magic.save('MAGIC_WH_Localizer')"
   ]
  },
  {
   "cell_type": "code",
   "execution_count": null,
   "metadata": {},
   "outputs": [],
   "source": []
  }
 ],
 "metadata": {
  "kernelspec": {
   "display_name": "cardiac_5",
   "language": "python",
   "name": "python3"
  },
  "language_info": {
   "codemirror_mode": {
    "name": "ipython",
    "version": 3
   },
   "file_extension": ".py",
   "mimetype": "text/x-python",
   "name": "python",
   "nbconvert_exporter": "python",
   "pygments_lexer": "ipython3",
   "version": "3.10.16"
  }
 },
 "nbformat": 4,
 "nbformat_minor": 2
}
