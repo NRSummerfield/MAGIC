{
 "cells": [
  {
   "cell_type": "code",
   "execution_count": null,
   "metadata": {},
   "outputs": [],
   "source": [
    "import os, glob, pickle\n",
    "from MAGIC import MAGIC_framework\n",
    "import torch\n",
    "\n",
    "src = \"Experiments/DistributedParallelMAGIC_take1/Best_Val_dice\"\n",
    "\n",
    "magic = MAGIC_framework.load_magic(src)\n",
    "\n",
    "magic.set_target('VR')\n",
    "\n",
    "inp = torch.rand(1, 1, 96, 96, 96)\n",
    "out = magic.tricks(inp)\n",
    "print(out.shape)"
   ]
  },
  {
   "cell_type": "code",
   "execution_count": null,
   "metadata": {},
   "outputs": [],
   "source": [
    "\n",
    "with open(os.path.join(src, 'saved_items.pickle'), 'rb') as f:\n",
    "    info = pickle.load(f)\n",
    "\n",
    "print(info.keys())"
   ]
  },
  {
   "cell_type": "code",
   "execution_count": null,
   "metadata": {},
   "outputs": [],
   "source": []
  }
 ],
 "metadata": {
  "kernelspec": {
   "display_name": "cardiac_5",
   "language": "python",
   "name": "python3"
  },
  "language_info": {
   "codemirror_mode": {
    "name": "ipython",
    "version": 3
   },
   "file_extension": ".py",
   "mimetype": "text/x-python",
   "name": "python",
   "nbconvert_exporter": "python",
   "pygments_lexer": "ipython3",
   "version": "3.10.16"
  }
 },
 "nbformat": 4,
 "nbformat_minor": 2
}
